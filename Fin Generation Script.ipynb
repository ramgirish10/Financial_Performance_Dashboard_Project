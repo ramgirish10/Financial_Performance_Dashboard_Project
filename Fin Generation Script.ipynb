{
 "cells": [
  {
   "cell_type": "markdown",
   "id": "e4b1dc25-75c8-4de6-a2cf-00a85c17cdb6",
   "metadata": {},
   "source": [
    "# Finance Data Generation Script"
   ]
  },
  {
   "cell_type": "code",
   "execution_count": 2,
   "id": "fb7afdff-58cb-43c9-9bb3-6f7c0426b0a5",
   "metadata": {},
   "outputs": [],
   "source": [
    "import pandas as pd\n",
    "import numpy as np\n",
    "import os\n",
    "from faker import Faker\n",
    "import random"
   ]
  },
  {
   "cell_type": "code",
   "execution_count": 4,
   "id": "700a008d-bda5-4519-98e9-2158fe44da85",
   "metadata": {},
   "outputs": [],
   "source": [
    "# Initialize Faker\n",
    "fake = Faker()"
   ]
  },
  {
   "cell_type": "code",
   "execution_count": 6,
   "id": "343e79bd-4606-4419-b151-29a65b2f46ca",
   "metadata": {},
   "outputs": [],
   "source": [
    "# Parameters\n",
    "num_companies = 50\n",
    "num_years = 5\n",
    "years = np.arange(2019, 2019 + num_years)\n",
    "industries = ['Technology', 'Finance', 'Healthcare', 'Manufacturing', 'Retail']\n",
    "sectors = ['Software', 'Banking', 'Biotech', 'Electronics', 'Consumer Goods']\n",
    "regions = ['North America', 'Europe', 'Asia', 'South America', 'Africa']\n",
    "company_types = ['Public', 'Private', 'Non-Profit']\n",
    "revenue_categories = ['Small', 'Medium', 'Large']"
   ]
  },
  {
   "cell_type": "code",
   "execution_count": 8,
   "id": "49582f5a-849b-41f6-b1e9-9db3c2c67f67",
   "metadata": {},
   "outputs": [],
   "source": [
    "# Directory to save files\n",
    "base_path = r\"C:\\Users\\br1gi\\Downloads\\Learning\\Fin Project\""
   ]
  },
  {
   "cell_type": "code",
   "execution_count": 10,
   "id": "1f55edd9-9ecc-4804-96cf-ebecc7b60d17",
   "metadata": {},
   "outputs": [],
   "source": [
    "# Ensure directory exists\n",
    "if not os.path.exists(base_path):\n",
    "    os.makedirs(base_path)"
   ]
  },
  {
   "cell_type": "code",
   "execution_count": 12,
   "id": "293d18f0-c6d5-4e5c-9e48-441878600652",
   "metadata": {},
   "outputs": [],
   "source": [
    "# Generate Companies Data\n",
    "companies_data = {\n",
    "    'CompanyID': range(1, num_companies + 1),\n",
    "    'CompanyName': [fake.company() for _ in range(num_companies)],\n",
    "    'Industry': [random.choice(industries) for _ in range(num_companies)],\n",
    "    'Sector': [random.choice(sectors) for _ in range(num_companies)],\n",
    "    'Country': [fake.country() for _ in range(num_companies)],\n",
    "    'Region': [random.choice(regions) for _ in range(num_companies)],\n",
    "    'YearFounded': [random.randint(1900, 2020) for _ in range(num_companies)],\n",
    "    'NumberOfEmployees': [random.randint(50, 5000) for _ in range(num_companies)],\n",
    "    'SectorSize': [random.uniform(100000000, 10000000000) for _ in range(num_companies)]  # Industry sector size\n",
    "}"
   ]
  },
  {
   "cell_type": "code",
   "execution_count": 14,
   "id": "feb2c826-03da-49eb-bdb2-02d69753aa24",
   "metadata": {},
   "outputs": [],
   "source": [
    "companies_df = pd.DataFrame(companies_data)\n",
    "companies_df.to_csv(os.path.join(base_path, 'companies.csv'), index=False)"
   ]
  },
  {
   "cell_type": "code",
   "execution_count": 16,
   "id": "f7992757-2ad1-4b1c-ad28-c8d5eec0d65b",
   "metadata": {},
   "outputs": [],
   "source": [
    "# Generate Assets and Liabilities Data\n",
    "assets_liabilities = []\n",
    "for company_id in range(1, num_companies + 1):\n",
    "    for year in years:\n",
    "        cash = np.random.uniform(100000, 5000000)\n",
    "        accounts_receivable = np.random.uniform(50000, 2000000)\n",
    "        inventory = np.random.uniform(50000, 1000000)\n",
    "        property_plant_equipment = np.random.uniform(100000, 10000000)\n",
    "        other_assets = np.random.uniform(50000, 2000000)\n",
    "        short_term_debt = np.random.uniform(50000, 500000)\n",
    "        long_term_debt = np.random.uniform(500000, 5000000)\n",
    "        accounts_payable = np.random.uniform(50000, 500000)\n",
    "        other_liabilities = np.random.uniform(50000, 1000000)\n",
    "        \n",
    "        total_assets = cash + accounts_receivable + inventory + property_plant_equipment + other_assets\n",
    "        total_liabilities = short_term_debt + long_term_debt + accounts_payable + other_liabilities\n",
    "\n",
    "        assets_liabilities.append([\n",
    "            company_id, year, cash, accounts_receivable, inventory, property_plant_equipment, other_assets,\n",
    "            short_term_debt, long_term_debt, accounts_payable, other_liabilities, total_assets, total_liabilities\n",
    "        ])\n",
    "\n",
    "assets_liabilities_df = pd.DataFrame(assets_liabilities, columns=[\n",
    "    \"CompanyID\", \"Year\", \"Cash\", \"Accounts_Receivable\", \"Inventory\", \"Property_Plant_Equipment\", \"Other_Assets\",\n",
    "    \"Short_Term_Debt\", \"Long_Term_Debt\", \"Accounts_Payable\", \"Other_Liabilities\", \"Total_Assets\", \"Total_Liabilities\"\n",
    "])\n",
    "assets_liabilities_df.to_csv(os.path.join(base_path, 'assets_liabilities.csv'), index=False)"
   ]
  },
  {
   "cell_type": "code",
   "execution_count": 18,
   "id": "8305d627-8c34-4fab-917c-9d7de419d6ac",
   "metadata": {},
   "outputs": [],
   "source": [
    "# Generate Sales Data\n",
    "sales = []\n",
    "for company_id in range(1, num_companies + 1):\n",
    "    for year in years:\n",
    "        revenue = np.random.uniform(500000, 20000000)\n",
    "        cost_of_goods_sold = np.random.uniform(100000, 15000000)\n",
    "        sales.append([\n",
    "            company_id, year, revenue, cost_of_goods_sold\n",
    "        ])\n",
    "\n",
    "sales_df = pd.DataFrame(sales, columns=[\n",
    "    \"CompanyID\", \"Year\", \"Revenue\", \"Cost_of_Goods_Sold\"\n",
    "])\n",
    "sales_df.to_csv(os.path.join(base_path, 'sales.csv'), index=False)"
   ]
  },
  {
   "cell_type": "code",
   "execution_count": 20,
   "id": "b1b138e0-afb7-49a4-ad2d-3f9b7411e5f0",
   "metadata": {},
   "outputs": [],
   "source": [
    "# Generate Investments Data\n",
    "investments = []\n",
    "for company_id in range(1, num_companies + 1):\n",
    "    for year in years:\n",
    "        capital_expenditure = np.random.uniform(50000, 5000000)\n",
    "        equity_investment = np.random.uniform(10000, 1000000)\n",
    "        investments.append([\n",
    "            company_id, year, capital_expenditure, equity_investment\n",
    "        ])\n",
    "\n",
    "investments_df = pd.DataFrame(investments, columns=[\n",
    "    \"CompanyID\", \"Year\", \"Capital_Expenditure\", \"Equity_Investment\"\n",
    "])\n",
    "investments_df.to_csv(os.path.join(base_path, 'investments.csv'), index=False)"
   ]
  },
  {
   "cell_type": "code",
   "execution_count": 22,
   "id": "63416536-84da-4b89-a069-77c4f2749e10",
   "metadata": {},
   "outputs": [],
   "source": [
    "# Generate Financials Data\n",
    "financials = []\n",
    "for company_id in range(1, num_companies + 1):\n",
    "    for year in years:\n",
    "        revenue = np.random.uniform(500000, 20000000)\n",
    "        cogs = np.random.uniform(100000, 15000000)\n",
    "        gross_profit = revenue - cogs\n",
    "        operating_income = np.random.uniform(200000, 8000000)\n",
    "        interest_expense = np.random.uniform(20000, 500000)\n",
    "        tax_expense = np.random.uniform(10000, 200000)\n",
    "        net_income = operating_income - interest_expense - tax_expense\n",
    "        depreciation = np.random.uniform(20000, 1000000)\n",
    "        ebit = operating_income + interest_expense\n",
    "        ebitda = ebit + depreciation\n",
    "        ebt = ebit - tax_expense\n",
    "        financials.append([\n",
    "            company_id, year, revenue, cogs, gross_profit, operating_income, \n",
    "            interest_expense, tax_expense, net_income, depreciation, ebit, ebitda, ebt\n",
    "        ])\n",
    "\n",
    "financials_df = pd.DataFrame(financials, columns=[\n",
    "    \"CompanyID\", \"Year\", \"Revenue\", \"Cost_of_Goods_Sold\", \"Gross_Profit\", \"Operating_Income\",\n",
    "    \"Interest_Expense\", \"Tax_Expense\", \"Net_Income\", \"Depreciation\", \"EBIT\", \"EBITDA\", \"EBT\"\n",
    "])\n",
    "financials_df.to_csv(os.path.join(base_path, 'financials.csv'), index=False)"
   ]
  },
  {
   "cell_type": "code",
   "execution_count": 24,
   "id": "de41b7b8-b2ee-4f08-b0fd-3af0acf3c67a",
   "metadata": {},
   "outputs": [
    {
     "name": "stdout",
     "output_type": "stream",
     "text": [
      "Enhanced data generation completed and files saved.\n"
     ]
    }
   ],
   "source": [
    "# Generate Cash Flow Data\n",
    "cash_flows = []\n",
    "for company_id in range(1, num_companies + 1):\n",
    "    for year in years:\n",
    "        operating_cash_flow = np.random.uniform(50000, 5000000)\n",
    "        investing_cash_flow = np.random.uniform(-2000000, 2000000)\n",
    "        financing_cash_flow = np.random.uniform(-1000000, 1000000)\n",
    "        net_cash_flow = operating_cash_flow + investing_cash_flow + financing_cash_flow\n",
    "        cash_flows.append([\n",
    "            company_id, year, operating_cash_flow, investing_cash_flow, financing_cash_flow, net_cash_flow\n",
    "        ])\n",
    "\n",
    "cash_flow_df = pd.DataFrame(cash_flows, columns=[\n",
    "    \"CompanyID\", \"Year\", \"Operating_CashFlow\", \"Investing_CashFlow\", \"Financing_CashFlow\", \"Net_CashFlow\"\n",
    "])\n",
    "cash_flow_df.to_csv(os.path.join(base_path, 'cash_flow.csv'), index=False)\n",
    "\n",
    "print(\"Enhanced data generation completed and files saved.\")"
   ]
  }
 ],
 "metadata": {
  "kernelspec": {
   "display_name": "Python 3 (ipykernel)",
   "language": "python",
   "name": "python3"
  },
  "language_info": {
   "codemirror_mode": {
    "name": "ipython",
    "version": 3
   },
   "file_extension": ".py",
   "mimetype": "text/x-python",
   "name": "python",
   "nbconvert_exporter": "python",
   "pygments_lexer": "ipython3",
   "version": "3.11.9"
  }
 },
 "nbformat": 4,
 "nbformat_minor": 5
}
