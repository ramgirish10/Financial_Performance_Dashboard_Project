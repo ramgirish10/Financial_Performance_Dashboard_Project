{
 "cells": [
  {
   "cell_type": "code",
   "execution_count": 1,
   "id": "ba8e3475-fb48-4c6e-9491-6c9cb39ce2a5",
   "metadata": {},
   "outputs": [],
   "source": [
    "import pandas as pd\n",
    "import numpy as np\n",
    "import os\n",
    "from faker import Faker\n",
    "import random"
   ]
  },
  {
   "cell_type": "code",
   "execution_count": 3,
   "id": "fcac272b-40e8-4c7e-a5e9-c74fb0f2f56a",
   "metadata": {},
   "outputs": [],
   "source": [
    "# Load datasets\n",
    "base_path = r\"C:\\Users\\br1gi\\Downloads\\Learning\\Fin Project\""
   ]
  },
  {
   "cell_type": "code",
   "execution_count": 5,
   "id": "2e33e109-35ae-4ca8-a662-fa38ac0b5522",
   "metadata": {},
   "outputs": [],
   "source": [
    "# Load dataframes\n",
    "companies_df = pd.read_csv(os.path.join(base_path, 'companies.csv'))\n",
    "assets_liabilities_df = pd.read_csv(os.path.join(base_path, 'assets_liabilities.csv'))\n",
    "sales_df = pd.read_csv(os.path.join(base_path, 'sales.csv'))\n",
    "investments_df = pd.read_csv(os.path.join(base_path, 'investments.csv'))\n",
    "financials_df = pd.read_csv(os.path.join(base_path, 'financials.csv'))\n",
    "cash_flow_df = pd.read_csv(os.path.join(base_path, 'cash_flow.csv'))"
   ]
  },
  {
   "cell_type": "markdown",
   "id": "c422ff6e-9057-4119-b281-450062e3cd37",
   "metadata": {},
   "source": [
    "# 1. Verify Assets and Liabilities Consistency"
   ]
  },
  {
   "cell_type": "code",
   "execution_count": 8,
   "id": "338cb078-aef7-4f19-b9a8-da26fce1272d",
   "metadata": {},
   "outputs": [],
   "source": [
    "# Ensure that Total Assets and Liabilities match between financials and assets_liabilities tables\n",
    "financials_with_assets_liabilities = financials_df.merge(\n",
    "    assets_liabilities_df[['CompanyID', 'Year', 'Total_Assets', 'Total_Liabilities']], \n",
    "    on=['CompanyID', 'Year'], how='left'\n",
    ")"
   ]
  },
  {
   "cell_type": "code",
   "execution_count": 10,
   "id": "64a29916-44f4-45d4-8e0d-08974676ef78",
   "metadata": {},
   "outputs": [
    {
     "name": "stdout",
     "output_type": "stream",
     "text": [
      "Financial consistency verified. No mismatches detected.\n"
     ]
    }
   ],
   "source": [
    "# Check for mismatches in Total Assets and Total Liabilities\n",
    "consistency_mismatch = financials_with_assets_liabilities[\n",
    "    ~np.isclose(financials_with_assets_liabilities['Total_Assets'], financials_with_assets_liabilities['Total_Assets']) |\n",
    "    ~np.isclose(financials_with_assets_liabilities['Total_Liabilities'], financials_with_assets_liabilities['Total_Liabilities'])\n",
    "]\n",
    "\n",
    "if not consistency_mismatch.empty:\n",
    "    print(\"Financial Consistency Mismatch Detected:\")\n",
    "    print(consistency_mismatch)\n",
    "else:\n",
    "    print(\"Financial consistency verified. No mismatches detected.\")"
   ]
  },
  {
   "cell_type": "markdown",
   "id": "a8a38870-c1f4-4848-9741-7df99044badc",
   "metadata": {},
   "source": [
    "# 2. Verify Gross Profit Calculation"
   ]
  },
  {
   "cell_type": "code",
   "execution_count": 13,
   "id": "29baefae-1398-421a-869a-f1c39b783c46",
   "metadata": {},
   "outputs": [
    {
     "name": "stdout",
     "output_type": "stream",
     "text": [
      "Gross Profit calculation verified. No mismatches detected.\n"
     ]
    }
   ],
   "source": [
    "# Ensure Gross Profit calculated from financials_df matches the provided Gross Profit\n",
    "calculated_gross_profit = financials_df['Revenue'] - financials_df['Cost_of_Goods_Sold']\n",
    "gross_profit_mismatch = financials_df[['CompanyID', 'Year', 'Gross_Profit']].copy()\n",
    "gross_profit_mismatch['Calculated_Gross_Profit'] = calculated_gross_profit\n",
    "gross_profit_mismatch = gross_profit_mismatch[\n",
    "    ~np.isclose(gross_profit_mismatch['Gross_Profit'], gross_profit_mismatch['Calculated_Gross_Profit'])\n",
    "]\n",
    "\n",
    "if not gross_profit_mismatch.empty:\n",
    "    print(\"Gross Profit Calculation Mismatch Detected:\")\n",
    "    print(gross_profit_mismatch)\n",
    "else:\n",
    "    print(\"Gross Profit calculation verified. No mismatches detected.\")"
   ]
  },
  {
   "cell_type": "markdown",
   "id": "bbe169a4-6eec-40bb-8f77-a3198b3c0d64",
   "metadata": {},
   "source": [
    "# 3. Verify Net Income Calculation"
   ]
  },
  {
   "cell_type": "code",
   "execution_count": 16,
   "id": "1572b3c5-2f5a-4e50-babb-1bf9f47b94bf",
   "metadata": {},
   "outputs": [
    {
     "name": "stdout",
     "output_type": "stream",
     "text": [
      "Net Income calculation verified. No mismatches detected.\n"
     ]
    }
   ],
   "source": [
    "# Check if Net Income in financials_df matches Operating Income - Interest Expense - Tax Expense\n",
    "financials_with_net_income = financials_df.copy()\n",
    "financials_with_net_income['Calculated_Net_Income'] = financials_df['Operating_Income'] - financials_df['Interest_Expense'] - financials_df['Tax_Expense']\n",
    "net_income_mismatch = financials_with_net_income[\n",
    "    ~np.isclose(financials_with_net_income['Net_Income'], financials_with_net_income['Calculated_Net_Income'])\n",
    "]\n",
    "\n",
    "if not net_income_mismatch.empty:\n",
    "    print(\"Net Income Calculation Mismatch Detected:\")\n",
    "    print(net_income_mismatch)\n",
    "else:\n",
    "    print(\"Net Income calculation verified. No mismatches detected.\")"
   ]
  },
  {
   "cell_type": "markdown",
   "id": "ada238be-5a15-41d7-86c9-cb7a553166dc",
   "metadata": {},
   "source": [
    "# 4. Verify Cash Flow Consistency"
   ]
  },
  {
   "cell_type": "code",
   "execution_count": 19,
   "id": "2ea2f66d-233e-48c1-80fd-88675e4318ef",
   "metadata": {},
   "outputs": [
    {
     "name": "stdout",
     "output_type": "stream",
     "text": [
      "Cash Flow calculation verified. No mismatches detected.\n"
     ]
    }
   ],
   "source": [
    "# Check if Net Cash Flow in cash_flow_df matches the sum of Operating, Investing, and Financing Cash Flows\n",
    "cash_flow_df['Calculated_Net_Cash_Flow'] = cash_flow_df['Operating_CashFlow'] + cash_flow_df['Investing_CashFlow'] + cash_flow_df['Financing_CashFlow']\n",
    "cash_flow_mismatch = cash_flow_df[\n",
    "    ~np.isclose(cash_flow_df['Net_CashFlow'], cash_flow_df['Calculated_Net_Cash_Flow'])\n",
    "]\n",
    "\n",
    "if not cash_flow_mismatch.empty:\n",
    "    print(\"Cash Flow Calculation Mismatch Detected:\")\n",
    "    print(cash_flow_mismatch)\n",
    "else:\n",
    "    print(\"Cash Flow calculation verified. No mismatches detected.\")"
   ]
  },
  {
   "cell_type": "code",
   "execution_count": 21,
   "id": "e4683c59-776f-4056-b9da-3ca30d28bf64",
   "metadata": {},
   "outputs": [
    {
     "name": "stdout",
     "output_type": "stream",
     "text": [
      "Verification completed.\n"
     ]
    }
   ],
   "source": [
    "print(\"Verification completed.\")"
   ]
  }
 ],
 "metadata": {
  "kernelspec": {
   "display_name": "Python 3 (ipykernel)",
   "language": "python",
   "name": "python3"
  },
  "language_info": {
   "codemirror_mode": {
    "name": "ipython",
    "version": 3
   },
   "file_extension": ".py",
   "mimetype": "text/x-python",
   "name": "python",
   "nbconvert_exporter": "python",
   "pygments_lexer": "ipython3",
   "version": "3.11.9"
  }
 },
 "nbformat": 4,
 "nbformat_minor": 5
}
